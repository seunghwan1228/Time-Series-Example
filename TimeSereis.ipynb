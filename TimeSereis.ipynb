{
  "nbformat": 4,
  "nbformat_minor": 0,
  "metadata": {
    "colab": {
      "name": "TimeSereis.ipynb",
      "provenance": [],
      "toc_visible": true,
      "include_colab_link": true
    },
    "kernelspec": {
      "name": "python3",
      "display_name": "Python 3"
    },
    "accelerator": "GPU"
  },
  "cells": [
    {
      "cell_type": "markdown",
      "metadata": {
        "id": "view-in-github",
        "colab_type": "text"
      },
      "source": [
        "<a href=\"https://colab.research.google.com/github/seunghwan1228/Time-Series-Example/blob/master/TimeSereis.ipynb\" target=\"_parent\"><img src=\"https://colab.research.google.com/assets/colab-badge.svg\" alt=\"Open In Colab\"/></a>"
      ]
    },
    {
      "cell_type": "markdown",
      "metadata": {
        "id": "lWzWcsHSOqlR",
        "colab_type": "text"
      },
      "source": [
        "## Time Series Forecast"
      ]
    },
    {
      "cell_type": "code",
      "metadata": {
        "id": "GjmBU0XgOSgw",
        "colab_type": "code",
        "colab": {}
      },
      "source": [
        "import numpy as np\n",
        "import pandas as pd\n",
        "import matplotlib.pyplot as plt\n",
        "import seaborn as sns\n",
        "from sklearn.preprocessing import MinMaxScaler, StandardScaler\n",
        "from sklearn.model_selection import train_test_split\n",
        "from keras.preprocessing.sequence import TimeseriesGenerator\n",
        "from keras import models, layers, callbacks\n",
        "from keras.utils import plot_model\n",
        "import os\n",
        "import warnings\n",
        "\n",
        "warnings.filterwarnings('ignore')"
      ],
      "execution_count": 0,
      "outputs": []
    },
    {
      "cell_type": "markdown",
      "metadata": {
        "id": "5AJMv1_kPGTj",
        "colab_type": "text"
      },
      "source": [
        "## Download Data"
      ]
    },
    {
      "cell_type": "code",
      "metadata": {
        "id": "PiMvk6UUO9wo",
        "colab_type": "code",
        "colab": {
          "base_uri": "https://localhost:8080/",
          "height": 215
        },
        "outputId": "af87f591-06f4-477c-d032-4f985b7956e0"
      },
      "source": [
        "!wget https://s3.amazonaws.com/keras-datasets/jena_climate_2009_2016.csv.zip"
      ],
      "execution_count": 3,
      "outputs": [
        {
          "output_type": "stream",
          "text": [
            "--2019-11-12 10:50:30--  https://s3.amazonaws.com/keras-datasets/jena_climate_2009_2016.csv.zip\n",
            "Resolving s3.amazonaws.com (s3.amazonaws.com)... 52.216.66.35\n",
            "Connecting to s3.amazonaws.com (s3.amazonaws.com)|52.216.66.35|:443... connected.\n",
            "HTTP request sent, awaiting response... 200 OK\n",
            "Length: 13568290 (13M) [application/zip]\n",
            "Saving to: ‘jena_climate_2009_2016.csv.zip’\n",
            "\n",
            "jena_climate_2009_2 100%[===================>]  12.94M  7.13MB/s    in 1.8s    \n",
            "\n",
            "2019-11-12 10:50:33 (7.13 MB/s) - ‘jena_climate_2009_2016.csv.zip’ saved [13568290/13568290]\n",
            "\n"
          ],
          "name": "stdout"
        }
      ]
    },
    {
      "cell_type": "markdown",
      "metadata": {
        "id": "UOpYcOotPIb4",
        "colab_type": "text"
      },
      "source": [
        "## Unzip data"
      ]
    },
    {
      "cell_type": "code",
      "metadata": {
        "id": "SM-zrGP2PH9J",
        "colab_type": "code",
        "colab": {
          "base_uri": "https://localhost:8080/",
          "height": 53
        },
        "outputId": "f893824e-7e0f-4a70-d2ef-d97fd23b36f4"
      },
      "source": [
        "!unzip /content/jena_climate_2009_2016.csv.zip"
      ],
      "execution_count": 4,
      "outputs": [
        {
          "output_type": "stream",
          "text": [
            "Archive:  /content/jena_climate_2009_2016.csv.zip\n",
            "  inflating: jena_climate_2009_2016.csv  \n"
          ],
          "name": "stdout"
        }
      ]
    },
    {
      "cell_type": "markdown",
      "metadata": {
        "id": "dGTeHUoRPOCX",
        "colab_type": "text"
      },
      "source": [
        "## load data"
      ]
    },
    {
      "cell_type": "code",
      "metadata": {
        "id": "W4iX0TE5PMND",
        "colab_type": "code",
        "colab": {}
      },
      "source": [
        "df = pd.read_csv('/content/jena_climate_2009_2016.csv')"
      ],
      "execution_count": 0,
      "outputs": []
    },
    {
      "cell_type": "code",
      "metadata": {
        "id": "Jnxl7RsMPRFJ",
        "colab_type": "code",
        "colab": {
          "base_uri": "https://localhost:8080/",
          "height": 306
        },
        "outputId": "0b63afe4-a236-4a86-c658-92dc0d25ccff"
      },
      "source": [
        "df.head()"
      ],
      "execution_count": 97,
      "outputs": [
        {
          "output_type": "execute_result",
          "data": {
            "text/html": [
              "<div>\n",
              "<style scoped>\n",
              "    .dataframe tbody tr th:only-of-type {\n",
              "        vertical-align: middle;\n",
              "    }\n",
              "\n",
              "    .dataframe tbody tr th {\n",
              "        vertical-align: top;\n",
              "    }\n",
              "\n",
              "    .dataframe thead th {\n",
              "        text-align: right;\n",
              "    }\n",
              "</style>\n",
              "<table border=\"1\" class=\"dataframe\">\n",
              "  <thead>\n",
              "    <tr style=\"text-align: right;\">\n",
              "      <th></th>\n",
              "      <th>Date Time</th>\n",
              "      <th>p (mbar)</th>\n",
              "      <th>T (degC)</th>\n",
              "      <th>Tpot (K)</th>\n",
              "      <th>Tdew (degC)</th>\n",
              "      <th>rh (%)</th>\n",
              "      <th>VPmax (mbar)</th>\n",
              "      <th>VPact (mbar)</th>\n",
              "      <th>VPdef (mbar)</th>\n",
              "      <th>sh (g/kg)</th>\n",
              "      <th>H2OC (mmol/mol)</th>\n",
              "      <th>rho (g/m**3)</th>\n",
              "      <th>wv (m/s)</th>\n",
              "      <th>max. wv (m/s)</th>\n",
              "      <th>wd (deg)</th>\n",
              "    </tr>\n",
              "  </thead>\n",
              "  <tbody>\n",
              "    <tr>\n",
              "      <th>0</th>\n",
              "      <td>01.01.2009 00:10:00</td>\n",
              "      <td>996.52</td>\n",
              "      <td>-8.02</td>\n",
              "      <td>265.40</td>\n",
              "      <td>-8.90</td>\n",
              "      <td>93.3</td>\n",
              "      <td>3.33</td>\n",
              "      <td>3.11</td>\n",
              "      <td>0.22</td>\n",
              "      <td>1.94</td>\n",
              "      <td>3.12</td>\n",
              "      <td>1307.75</td>\n",
              "      <td>1.03</td>\n",
              "      <td>1.75</td>\n",
              "      <td>152.3</td>\n",
              "    </tr>\n",
              "    <tr>\n",
              "      <th>1</th>\n",
              "      <td>01.01.2009 00:20:00</td>\n",
              "      <td>996.57</td>\n",
              "      <td>-8.41</td>\n",
              "      <td>265.01</td>\n",
              "      <td>-9.28</td>\n",
              "      <td>93.4</td>\n",
              "      <td>3.23</td>\n",
              "      <td>3.02</td>\n",
              "      <td>0.21</td>\n",
              "      <td>1.89</td>\n",
              "      <td>3.03</td>\n",
              "      <td>1309.80</td>\n",
              "      <td>0.72</td>\n",
              "      <td>1.50</td>\n",
              "      <td>136.1</td>\n",
              "    </tr>\n",
              "    <tr>\n",
              "      <th>2</th>\n",
              "      <td>01.01.2009 00:30:00</td>\n",
              "      <td>996.53</td>\n",
              "      <td>-8.51</td>\n",
              "      <td>264.91</td>\n",
              "      <td>-9.31</td>\n",
              "      <td>93.9</td>\n",
              "      <td>3.21</td>\n",
              "      <td>3.01</td>\n",
              "      <td>0.20</td>\n",
              "      <td>1.88</td>\n",
              "      <td>3.02</td>\n",
              "      <td>1310.24</td>\n",
              "      <td>0.19</td>\n",
              "      <td>0.63</td>\n",
              "      <td>171.6</td>\n",
              "    </tr>\n",
              "    <tr>\n",
              "      <th>3</th>\n",
              "      <td>01.01.2009 00:40:00</td>\n",
              "      <td>996.51</td>\n",
              "      <td>-8.31</td>\n",
              "      <td>265.12</td>\n",
              "      <td>-9.07</td>\n",
              "      <td>94.2</td>\n",
              "      <td>3.26</td>\n",
              "      <td>3.07</td>\n",
              "      <td>0.19</td>\n",
              "      <td>1.92</td>\n",
              "      <td>3.08</td>\n",
              "      <td>1309.19</td>\n",
              "      <td>0.34</td>\n",
              "      <td>0.50</td>\n",
              "      <td>198.0</td>\n",
              "    </tr>\n",
              "    <tr>\n",
              "      <th>4</th>\n",
              "      <td>01.01.2009 00:50:00</td>\n",
              "      <td>996.51</td>\n",
              "      <td>-8.27</td>\n",
              "      <td>265.15</td>\n",
              "      <td>-9.04</td>\n",
              "      <td>94.1</td>\n",
              "      <td>3.27</td>\n",
              "      <td>3.08</td>\n",
              "      <td>0.19</td>\n",
              "      <td>1.92</td>\n",
              "      <td>3.09</td>\n",
              "      <td>1309.00</td>\n",
              "      <td>0.32</td>\n",
              "      <td>0.63</td>\n",
              "      <td>214.3</td>\n",
              "    </tr>\n",
              "  </tbody>\n",
              "</table>\n",
              "</div>"
            ],
            "text/plain": [
              "             Date Time  p (mbar)  T (degC)  ...  wv (m/s)  max. wv (m/s)  wd (deg)\n",
              "0  01.01.2009 00:10:00    996.52     -8.02  ...      1.03           1.75     152.3\n",
              "1  01.01.2009 00:20:00    996.57     -8.41  ...      0.72           1.50     136.1\n",
              "2  01.01.2009 00:30:00    996.53     -8.51  ...      0.19           0.63     171.6\n",
              "3  01.01.2009 00:40:00    996.51     -8.31  ...      0.34           0.50     198.0\n",
              "4  01.01.2009 00:50:00    996.51     -8.27  ...      0.32           0.63     214.3\n",
              "\n",
              "[5 rows x 15 columns]"
            ]
          },
          "metadata": {
            "tags": []
          },
          "execution_count": 97
        }
      ]
    },
    {
      "cell_type": "markdown",
      "metadata": {
        "id": "bxLzY65gPTB3",
        "colab_type": "text"
      },
      "source": [
        "# convert time as index"
      ]
    },
    {
      "cell_type": "code",
      "metadata": {
        "id": "U66QE8nbPSBx",
        "colab_type": "code",
        "colab": {}
      },
      "source": [
        "df.set_index('Date Time', drop=True, inplace=True)"
      ],
      "execution_count": 0,
      "outputs": []
    },
    {
      "cell_type": "code",
      "metadata": {
        "id": "njnhp-i9PX6H",
        "colab_type": "code",
        "colab": {
          "base_uri": "https://localhost:8080/",
          "height": 235
        },
        "outputId": "2009c292-0215-4171-e246-b3f557822d57"
      },
      "source": [
        "df.head()"
      ],
      "execution_count": 99,
      "outputs": [
        {
          "output_type": "execute_result",
          "data": {
            "text/html": [
              "<div>\n",
              "<style scoped>\n",
              "    .dataframe tbody tr th:only-of-type {\n",
              "        vertical-align: middle;\n",
              "    }\n",
              "\n",
              "    .dataframe tbody tr th {\n",
              "        vertical-align: top;\n",
              "    }\n",
              "\n",
              "    .dataframe thead th {\n",
              "        text-align: right;\n",
              "    }\n",
              "</style>\n",
              "<table border=\"1\" class=\"dataframe\">\n",
              "  <thead>\n",
              "    <tr style=\"text-align: right;\">\n",
              "      <th></th>\n",
              "      <th>p (mbar)</th>\n",
              "      <th>T (degC)</th>\n",
              "      <th>Tpot (K)</th>\n",
              "      <th>Tdew (degC)</th>\n",
              "      <th>rh (%)</th>\n",
              "      <th>VPmax (mbar)</th>\n",
              "      <th>VPact (mbar)</th>\n",
              "      <th>VPdef (mbar)</th>\n",
              "      <th>sh (g/kg)</th>\n",
              "      <th>H2OC (mmol/mol)</th>\n",
              "      <th>rho (g/m**3)</th>\n",
              "      <th>wv (m/s)</th>\n",
              "      <th>max. wv (m/s)</th>\n",
              "      <th>wd (deg)</th>\n",
              "    </tr>\n",
              "    <tr>\n",
              "      <th>Date Time</th>\n",
              "      <th></th>\n",
              "      <th></th>\n",
              "      <th></th>\n",
              "      <th></th>\n",
              "      <th></th>\n",
              "      <th></th>\n",
              "      <th></th>\n",
              "      <th></th>\n",
              "      <th></th>\n",
              "      <th></th>\n",
              "      <th></th>\n",
              "      <th></th>\n",
              "      <th></th>\n",
              "      <th></th>\n",
              "    </tr>\n",
              "  </thead>\n",
              "  <tbody>\n",
              "    <tr>\n",
              "      <th>01.01.2009 00:10:00</th>\n",
              "      <td>996.52</td>\n",
              "      <td>-8.02</td>\n",
              "      <td>265.40</td>\n",
              "      <td>-8.90</td>\n",
              "      <td>93.3</td>\n",
              "      <td>3.33</td>\n",
              "      <td>3.11</td>\n",
              "      <td>0.22</td>\n",
              "      <td>1.94</td>\n",
              "      <td>3.12</td>\n",
              "      <td>1307.75</td>\n",
              "      <td>1.03</td>\n",
              "      <td>1.75</td>\n",
              "      <td>152.3</td>\n",
              "    </tr>\n",
              "    <tr>\n",
              "      <th>01.01.2009 00:20:00</th>\n",
              "      <td>996.57</td>\n",
              "      <td>-8.41</td>\n",
              "      <td>265.01</td>\n",
              "      <td>-9.28</td>\n",
              "      <td>93.4</td>\n",
              "      <td>3.23</td>\n",
              "      <td>3.02</td>\n",
              "      <td>0.21</td>\n",
              "      <td>1.89</td>\n",
              "      <td>3.03</td>\n",
              "      <td>1309.80</td>\n",
              "      <td>0.72</td>\n",
              "      <td>1.50</td>\n",
              "      <td>136.1</td>\n",
              "    </tr>\n",
              "    <tr>\n",
              "      <th>01.01.2009 00:30:00</th>\n",
              "      <td>996.53</td>\n",
              "      <td>-8.51</td>\n",
              "      <td>264.91</td>\n",
              "      <td>-9.31</td>\n",
              "      <td>93.9</td>\n",
              "      <td>3.21</td>\n",
              "      <td>3.01</td>\n",
              "      <td>0.20</td>\n",
              "      <td>1.88</td>\n",
              "      <td>3.02</td>\n",
              "      <td>1310.24</td>\n",
              "      <td>0.19</td>\n",
              "      <td>0.63</td>\n",
              "      <td>171.6</td>\n",
              "    </tr>\n",
              "    <tr>\n",
              "      <th>01.01.2009 00:40:00</th>\n",
              "      <td>996.51</td>\n",
              "      <td>-8.31</td>\n",
              "      <td>265.12</td>\n",
              "      <td>-9.07</td>\n",
              "      <td>94.2</td>\n",
              "      <td>3.26</td>\n",
              "      <td>3.07</td>\n",
              "      <td>0.19</td>\n",
              "      <td>1.92</td>\n",
              "      <td>3.08</td>\n",
              "      <td>1309.19</td>\n",
              "      <td>0.34</td>\n",
              "      <td>0.50</td>\n",
              "      <td>198.0</td>\n",
              "    </tr>\n",
              "    <tr>\n",
              "      <th>01.01.2009 00:50:00</th>\n",
              "      <td>996.51</td>\n",
              "      <td>-8.27</td>\n",
              "      <td>265.15</td>\n",
              "      <td>-9.04</td>\n",
              "      <td>94.1</td>\n",
              "      <td>3.27</td>\n",
              "      <td>3.08</td>\n",
              "      <td>0.19</td>\n",
              "      <td>1.92</td>\n",
              "      <td>3.09</td>\n",
              "      <td>1309.00</td>\n",
              "      <td>0.32</td>\n",
              "      <td>0.63</td>\n",
              "      <td>214.3</td>\n",
              "    </tr>\n",
              "  </tbody>\n",
              "</table>\n",
              "</div>"
            ],
            "text/plain": [
              "                     p (mbar)  T (degC)  ...  max. wv (m/s)  wd (deg)\n",
              "Date Time                                ...                         \n",
              "01.01.2009 00:10:00    996.52     -8.02  ...           1.75     152.3\n",
              "01.01.2009 00:20:00    996.57     -8.41  ...           1.50     136.1\n",
              "01.01.2009 00:30:00    996.53     -8.51  ...           0.63     171.6\n",
              "01.01.2009 00:40:00    996.51     -8.31  ...           0.50     198.0\n",
              "01.01.2009 00:50:00    996.51     -8.27  ...           0.63     214.3\n",
              "\n",
              "[5 rows x 14 columns]"
            ]
          },
          "metadata": {
            "tags": []
          },
          "execution_count": 99
        }
      ]
    },
    {
      "cell_type": "code",
      "metadata": {
        "id": "dyaaIMMcPpN9",
        "colab_type": "code",
        "colab": {
          "base_uri": "https://localhost:8080/",
          "height": 35
        },
        "outputId": "42bda3eb-7f3d-4d3c-e19b-e75e0a81a83e"
      },
      "source": [
        "df.shape"
      ],
      "execution_count": 100,
      "outputs": [
        {
          "output_type": "execute_result",
          "data": {
            "text/plain": [
              "(420551, 14)"
            ]
          },
          "metadata": {
            "tags": []
          },
          "execution_count": 100
        }
      ]
    },
    {
      "cell_type": "markdown",
      "metadata": {
        "id": "Vab7lhKqPm7w",
        "colab_type": "text"
      },
      "source": [
        "## slice data : 420551 <- Too many \n",
        "\n",
        "## Use only 100000 Obs"
      ]
    },
    {
      "cell_type": "code",
      "metadata": {
        "id": "HHqeg7cePwQK",
        "colab_type": "code",
        "colab": {}
      },
      "source": [
        "df = df.iloc[:200000, :]"
      ],
      "execution_count": 0,
      "outputs": []
    },
    {
      "cell_type": "code",
      "metadata": {
        "id": "elJJamtZPzCU",
        "colab_type": "code",
        "colab": {
          "base_uri": "https://localhost:8080/",
          "height": 235
        },
        "outputId": "b9f65f87-de15-442b-ce05-b758501dbaad"
      },
      "source": [
        "df.head()"
      ],
      "execution_count": 102,
      "outputs": [
        {
          "output_type": "execute_result",
          "data": {
            "text/html": [
              "<div>\n",
              "<style scoped>\n",
              "    .dataframe tbody tr th:only-of-type {\n",
              "        vertical-align: middle;\n",
              "    }\n",
              "\n",
              "    .dataframe tbody tr th {\n",
              "        vertical-align: top;\n",
              "    }\n",
              "\n",
              "    .dataframe thead th {\n",
              "        text-align: right;\n",
              "    }\n",
              "</style>\n",
              "<table border=\"1\" class=\"dataframe\">\n",
              "  <thead>\n",
              "    <tr style=\"text-align: right;\">\n",
              "      <th></th>\n",
              "      <th>p (mbar)</th>\n",
              "      <th>T (degC)</th>\n",
              "      <th>Tpot (K)</th>\n",
              "      <th>Tdew (degC)</th>\n",
              "      <th>rh (%)</th>\n",
              "      <th>VPmax (mbar)</th>\n",
              "      <th>VPact (mbar)</th>\n",
              "      <th>VPdef (mbar)</th>\n",
              "      <th>sh (g/kg)</th>\n",
              "      <th>H2OC (mmol/mol)</th>\n",
              "      <th>rho (g/m**3)</th>\n",
              "      <th>wv (m/s)</th>\n",
              "      <th>max. wv (m/s)</th>\n",
              "      <th>wd (deg)</th>\n",
              "    </tr>\n",
              "    <tr>\n",
              "      <th>Date Time</th>\n",
              "      <th></th>\n",
              "      <th></th>\n",
              "      <th></th>\n",
              "      <th></th>\n",
              "      <th></th>\n",
              "      <th></th>\n",
              "      <th></th>\n",
              "      <th></th>\n",
              "      <th></th>\n",
              "      <th></th>\n",
              "      <th></th>\n",
              "      <th></th>\n",
              "      <th></th>\n",
              "      <th></th>\n",
              "    </tr>\n",
              "  </thead>\n",
              "  <tbody>\n",
              "    <tr>\n",
              "      <th>01.01.2009 00:10:00</th>\n",
              "      <td>996.52</td>\n",
              "      <td>-8.02</td>\n",
              "      <td>265.40</td>\n",
              "      <td>-8.90</td>\n",
              "      <td>93.3</td>\n",
              "      <td>3.33</td>\n",
              "      <td>3.11</td>\n",
              "      <td>0.22</td>\n",
              "      <td>1.94</td>\n",
              "      <td>3.12</td>\n",
              "      <td>1307.75</td>\n",
              "      <td>1.03</td>\n",
              "      <td>1.75</td>\n",
              "      <td>152.3</td>\n",
              "    </tr>\n",
              "    <tr>\n",
              "      <th>01.01.2009 00:20:00</th>\n",
              "      <td>996.57</td>\n",
              "      <td>-8.41</td>\n",
              "      <td>265.01</td>\n",
              "      <td>-9.28</td>\n",
              "      <td>93.4</td>\n",
              "      <td>3.23</td>\n",
              "      <td>3.02</td>\n",
              "      <td>0.21</td>\n",
              "      <td>1.89</td>\n",
              "      <td>3.03</td>\n",
              "      <td>1309.80</td>\n",
              "      <td>0.72</td>\n",
              "      <td>1.50</td>\n",
              "      <td>136.1</td>\n",
              "    </tr>\n",
              "    <tr>\n",
              "      <th>01.01.2009 00:30:00</th>\n",
              "      <td>996.53</td>\n",
              "      <td>-8.51</td>\n",
              "      <td>264.91</td>\n",
              "      <td>-9.31</td>\n",
              "      <td>93.9</td>\n",
              "      <td>3.21</td>\n",
              "      <td>3.01</td>\n",
              "      <td>0.20</td>\n",
              "      <td>1.88</td>\n",
              "      <td>3.02</td>\n",
              "      <td>1310.24</td>\n",
              "      <td>0.19</td>\n",
              "      <td>0.63</td>\n",
              "      <td>171.6</td>\n",
              "    </tr>\n",
              "    <tr>\n",
              "      <th>01.01.2009 00:40:00</th>\n",
              "      <td>996.51</td>\n",
              "      <td>-8.31</td>\n",
              "      <td>265.12</td>\n",
              "      <td>-9.07</td>\n",
              "      <td>94.2</td>\n",
              "      <td>3.26</td>\n",
              "      <td>3.07</td>\n",
              "      <td>0.19</td>\n",
              "      <td>1.92</td>\n",
              "      <td>3.08</td>\n",
              "      <td>1309.19</td>\n",
              "      <td>0.34</td>\n",
              "      <td>0.50</td>\n",
              "      <td>198.0</td>\n",
              "    </tr>\n",
              "    <tr>\n",
              "      <th>01.01.2009 00:50:00</th>\n",
              "      <td>996.51</td>\n",
              "      <td>-8.27</td>\n",
              "      <td>265.15</td>\n",
              "      <td>-9.04</td>\n",
              "      <td>94.1</td>\n",
              "      <td>3.27</td>\n",
              "      <td>3.08</td>\n",
              "      <td>0.19</td>\n",
              "      <td>1.92</td>\n",
              "      <td>3.09</td>\n",
              "      <td>1309.00</td>\n",
              "      <td>0.32</td>\n",
              "      <td>0.63</td>\n",
              "      <td>214.3</td>\n",
              "    </tr>\n",
              "  </tbody>\n",
              "</table>\n",
              "</div>"
            ],
            "text/plain": [
              "                     p (mbar)  T (degC)  ...  max. wv (m/s)  wd (deg)\n",
              "Date Time                                ...                         \n",
              "01.01.2009 00:10:00    996.52     -8.02  ...           1.75     152.3\n",
              "01.01.2009 00:20:00    996.57     -8.41  ...           1.50     136.1\n",
              "01.01.2009 00:30:00    996.53     -8.51  ...           0.63     171.6\n",
              "01.01.2009 00:40:00    996.51     -8.31  ...           0.50     198.0\n",
              "01.01.2009 00:50:00    996.51     -8.27  ...           0.63     214.3\n",
              "\n",
              "[5 rows x 14 columns]"
            ]
          },
          "metadata": {
            "tags": []
          },
          "execution_count": 102
        }
      ]
    },
    {
      "cell_type": "code",
      "metadata": {
        "id": "zdIFvUb6Pzpb",
        "colab_type": "code",
        "colab": {
          "base_uri": "https://localhost:8080/",
          "height": 35
        },
        "outputId": "72420ae2-5683-421a-9fea-bc5182d93a3b"
      },
      "source": [
        "df.shape"
      ],
      "execution_count": 103,
      "outputs": [
        {
          "output_type": "execute_result",
          "data": {
            "text/plain": [
              "(200000, 14)"
            ]
          },
          "metadata": {
            "tags": []
          },
          "execution_count": 103
        }
      ]
    },
    {
      "cell_type": "markdown",
      "metadata": {
        "id": "pB5Jr7ZePZuG",
        "colab_type": "text"
      },
      "source": [
        "## Single Variables <- Use only Single Feature\n",
        "\n",
        "### Only Use :  < T (degC) >"
      ]
    },
    {
      "cell_type": "code",
      "metadata": {
        "id": "QnizrRv9PYXf",
        "colab_type": "code",
        "colab": {}
      },
      "source": [
        "temp_data = df['T (degC)']"
      ],
      "execution_count": 0,
      "outputs": []
    },
    {
      "cell_type": "code",
      "metadata": {
        "id": "ub-whtSgQC9e",
        "colab_type": "code",
        "colab": {
          "base_uri": "https://localhost:8080/",
          "height": 251
        },
        "outputId": "c488be16-df1c-453c-ea18-492f3b74725e"
      },
      "source": [
        "# it returns pandas series, not dataframe\n",
        "\n",
        "temp_data"
      ],
      "execution_count": 105,
      "outputs": [
        {
          "output_type": "execute_result",
          "data": {
            "text/plain": [
              "Date Time\n",
              "01.01.2009 00:10:00    -8.02\n",
              "01.01.2009 00:20:00    -8.41\n",
              "01.01.2009 00:30:00    -8.51\n",
              "01.01.2009 00:40:00    -8.31\n",
              "01.01.2009 00:50:00    -8.27\n",
              "                       ...  \n",
              "19.10.2012 21:00:00    14.78\n",
              "19.10.2012 21:10:00    14.40\n",
              "19.10.2012 21:20:00    14.06\n",
              "19.10.2012 21:30:00    13.60\n",
              "19.10.2012 21:40:00    13.42\n",
              "Name: T (degC), Length: 200000, dtype: float64"
            ]
          },
          "metadata": {
            "tags": []
          },
          "execution_count": 105
        }
      ]
    },
    {
      "cell_type": "code",
      "metadata": {
        "id": "AJvspbUCQIuL",
        "colab_type": "code",
        "colab": {
          "base_uri": "https://localhost:8080/",
          "height": 235
        },
        "outputId": "e61ef817-99e6-4514-e20b-780c9bb68dc0"
      },
      "source": [
        "# convert to data Frame\n",
        "temp_data = pd.DataFrame(temp_data)\n",
        "\n",
        "temp_data.head()"
      ],
      "execution_count": 106,
      "outputs": [
        {
          "output_type": "execute_result",
          "data": {
            "text/html": [
              "<div>\n",
              "<style scoped>\n",
              "    .dataframe tbody tr th:only-of-type {\n",
              "        vertical-align: middle;\n",
              "    }\n",
              "\n",
              "    .dataframe tbody tr th {\n",
              "        vertical-align: top;\n",
              "    }\n",
              "\n",
              "    .dataframe thead th {\n",
              "        text-align: right;\n",
              "    }\n",
              "</style>\n",
              "<table border=\"1\" class=\"dataframe\">\n",
              "  <thead>\n",
              "    <tr style=\"text-align: right;\">\n",
              "      <th></th>\n",
              "      <th>T (degC)</th>\n",
              "    </tr>\n",
              "    <tr>\n",
              "      <th>Date Time</th>\n",
              "      <th></th>\n",
              "    </tr>\n",
              "  </thead>\n",
              "  <tbody>\n",
              "    <tr>\n",
              "      <th>01.01.2009 00:10:00</th>\n",
              "      <td>-8.02</td>\n",
              "    </tr>\n",
              "    <tr>\n",
              "      <th>01.01.2009 00:20:00</th>\n",
              "      <td>-8.41</td>\n",
              "    </tr>\n",
              "    <tr>\n",
              "      <th>01.01.2009 00:30:00</th>\n",
              "      <td>-8.51</td>\n",
              "    </tr>\n",
              "    <tr>\n",
              "      <th>01.01.2009 00:40:00</th>\n",
              "      <td>-8.31</td>\n",
              "    </tr>\n",
              "    <tr>\n",
              "      <th>01.01.2009 00:50:00</th>\n",
              "      <td>-8.27</td>\n",
              "    </tr>\n",
              "  </tbody>\n",
              "</table>\n",
              "</div>"
            ],
            "text/plain": [
              "                     T (degC)\n",
              "Date Time                    \n",
              "01.01.2009 00:10:00     -8.02\n",
              "01.01.2009 00:20:00     -8.41\n",
              "01.01.2009 00:30:00     -8.51\n",
              "01.01.2009 00:40:00     -8.31\n",
              "01.01.2009 00:50:00     -8.27"
            ]
          },
          "metadata": {
            "tags": []
          },
          "execution_count": 106
        }
      ]
    },
    {
      "cell_type": "code",
      "metadata": {
        "id": "6IVsjHAaQS0z",
        "colab_type": "code",
        "colab": {
          "base_uri": "https://localhost:8080/",
          "height": 446
        },
        "outputId": "1794373a-2e27-4fb9-92d7-277ce0b45a49"
      },
      "source": [
        "# plot time series\n",
        "plt.figure(figsize=(10,10))\n",
        "plt.style.use('seaborn')      # convert plot as seaborn type \n",
        "temp_data.plot()              # disply line \n",
        "plt.xticks(rotation=20)       # rotation x ticks"
      ],
      "execution_count": 107,
      "outputs": [
        {
          "output_type": "execute_result",
          "data": {
            "text/plain": [
              "(array([     0.,  25000.,  50000.,  75000., 100000., 125000., 150000.,\n",
              "        175000., 200000.]), <a list of 9 Text xticklabel objects>)"
            ]
          },
          "metadata": {
            "tags": []
          },
          "execution_count": 107
        },
        {
          "output_type": "display_data",
          "data": {
            "text/plain": [
              "<Figure size 720x720 with 0 Axes>"
            ]
          },
          "metadata": {
            "tags": []
          }
        },
        {
          "output_type": "display_data",
          "data": {
            "image/png": "[encoded data removed]",
            "text/plain": [
              "<Figure size 576x396 with 1 Axes>"
            ]
          },
          "metadata": {
            "tags": []
          }
        }
      ]
    },
    {
      "cell_type": "markdown",
      "metadata": {
        "id": "5FQtyXkzRIew",
        "colab_type": "text"
      },
      "source": [
        "## split\n",
        "### 1) train : 0.70  \n",
        "### 2) validation : 0.20 \n",
        "### 3) test : 0.10"
      ]
    },
    {
      "cell_type": "code",
      "metadata": {
        "id": "0Uu45KOyQwsx",
        "colab_type": "code",
        "colab": {
          "base_uri": "https://localhost:8080/",
          "height": 35
        },
        "outputId": "788e2de6-5c06-4ec8-d38c-c9823e0f408b"
      },
      "source": [
        "temp_data.shape"
      ],
      "execution_count": 108,
      "outputs": [
        {
          "output_type": "execute_result",
          "data": {
            "text/plain": [
              "(200000, 1)"
            ]
          },
          "metadata": {
            "tags": []
          },
          "execution_count": 108
        }
      ]
    },
    {
      "cell_type": "code",
      "metadata": {
        "id": "y-IT8dWIRp-c",
        "colab_type": "code",
        "colab": {}
      },
      "source": [
        "train_index = int(200000 * 0.7)"
      ],
      "execution_count": 0,
      "outputs": []
    },
    {
      "cell_type": "code",
      "metadata": {
        "id": "1BSMY9uMR7sz",
        "colab_type": "code",
        "colab": {}
      },
      "source": [
        "validation_index = int(200000 * 0.2)"
      ],
      "execution_count": 0,
      "outputs": []
    },
    {
      "cell_type": "code",
      "metadata": {
        "id": "0n5RSu7JStMS",
        "colab_type": "code",
        "colab": {}
      },
      "source": [
        "test_index = int(200000 * 0.1)"
      ],
      "execution_count": 0,
      "outputs": []
    },
    {
      "cell_type": "code",
      "metadata": {
        "id": "BTyBskP2Suq1",
        "colab_type": "code",
        "colab": {
          "base_uri": "https://localhost:8080/",
          "height": 35
        },
        "outputId": "af137514-ff81-4a58-f007-d2175d51d1e2"
      },
      "source": [
        "print(train_index, validation_index, test_index)\n"
      ],
      "execution_count": 112,
      "outputs": [
        {
          "output_type": "stream",
          "text": [
            "140000 40000 20000\n"
          ],
          "name": "stdout"
        }
      ]
    },
    {
      "cell_type": "code",
      "metadata": {
        "id": "Yn7IBYXIRYKp",
        "colab_type": "code",
        "colab": {}
      },
      "source": [
        "train = temp_data[:train_index]\n",
        "\n",
        "validation = temp_data[train_index:(train_index + validation_index)]\n",
        "\n",
        "test = temp_data[(train_index + validation_index): ]"
      ],
      "execution_count": 0,
      "outputs": []
    },
    {
      "cell_type": "code",
      "metadata": {
        "id": "F4D857J7Ruj3",
        "colab_type": "code",
        "colab": {
          "base_uri": "https://localhost:8080/",
          "height": 35
        },
        "outputId": "3a83137e-335d-4556-8d6a-1a0efa5f344e"
      },
      "source": [
        "train.shape"
      ],
      "execution_count": 114,
      "outputs": [
        {
          "output_type": "execute_result",
          "data": {
            "text/plain": [
              "(140000, 1)"
            ]
          },
          "metadata": {
            "tags": []
          },
          "execution_count": 114
        }
      ]
    },
    {
      "cell_type": "code",
      "metadata": {
        "id": "tzua6WI8Ru_P",
        "colab_type": "code",
        "colab": {
          "base_uri": "https://localhost:8080/",
          "height": 35
        },
        "outputId": "b6b10945-d555-4676-8bf0-fc62f3cadded"
      },
      "source": [
        "validation.shape"
      ],
      "execution_count": 115,
      "outputs": [
        {
          "output_type": "execute_result",
          "data": {
            "text/plain": [
              "(40000, 1)"
            ]
          },
          "metadata": {
            "tags": []
          },
          "execution_count": 115
        }
      ]
    },
    {
      "cell_type": "code",
      "metadata": {
        "id": "vAzQVNzZR3uy",
        "colab_type": "code",
        "colab": {
          "base_uri": "https://localhost:8080/",
          "height": 35
        },
        "outputId": "61449d82-a073-4c3d-e1ba-4a3656299ad0"
      },
      "source": [
        "test.shape"
      ],
      "execution_count": 118,
      "outputs": [
        {
          "output_type": "execute_result",
          "data": {
            "text/plain": [
              "(20000, 1)"
            ]
          },
          "metadata": {
            "tags": []
          },
          "execution_count": 118
        }
      ]
    },
    {
      "cell_type": "markdown",
      "metadata": {
        "id": "s0ZRvY9_W3Hj",
        "colab_type": "text"
      },
      "source": [
        "## 1) check data split \n",
        "\n",
        "## 2) Data Set Property:\n",
        "\n",
        "data stored by 10 minutes:\n",
        "\n",
        "option) example\n",
        "\n",
        "1 hour data -> predict next 10 min data for 1 hour (6 obs)"
      ]
    },
    {
      "cell_type": "code",
      "metadata": {
        "id": "jO5hY1WiTbWC",
        "colab_type": "code",
        "colab": {
          "base_uri": "https://localhost:8080/",
          "height": 1000
        },
        "outputId": "8666078d-8d14-4ef7-957b-3c96e9dab0db"
      },
      "source": [
        "print('train head')\n",
        "display(train.head())\n",
        "print('train tail')\n",
        "display(train.tail())\n",
        "print('-----------------------')\n",
        "print('validation head')\n",
        "display(validation.head())\n",
        "print('validation tail')\n",
        "display(validation.tail())\n",
        "print('----------------------')\n",
        "print('test head')\n",
        "display(test.head())\n",
        "print('test head')\n",
        "display(test.tail())"
      ],
      "execution_count": 121,
      "outputs": [
        {
          "output_type": "stream",
          "text": [
            "train head\n"
          ],
          "name": "stdout"
        },
        {
          "output_type": "display_data",
          "data": {
            "text/html": [
              "<div>\n",
              "<style scoped>\n",
              "    .dataframe tbody tr th:only-of-type {\n",
              "        vertical-align: middle;\n",
              "    }\n",
              "\n",
              "    .dataframe tbody tr th {\n",
              "        vertical-align: top;\n",
              "    }\n",
              "\n",
              "    .dataframe thead th {\n",
              "        text-align: right;\n",
              "    }\n",
              "</style>\n",
              "<table border=\"1\" class=\"dataframe\">\n",
              "  <thead>\n",
              "    <tr style=\"text-align: right;\">\n",
              "      <th></th>\n",
              "      <th>T (degC)</th>\n",
              "    </tr>\n",
              "    <tr>\n",
              "      <th>Date Time</th>\n",
              "      <th></th>\n",
              "    </tr>\n",
              "  </thead>\n",
              "  <tbody>\n",
              "    <tr>\n",
              "      <th>01.01.2009 00:10:00</th>\n",
              "      <td>-8.02</td>\n",
              "    </tr>\n",
              "    <tr>\n",
              "      <th>01.01.2009 00:20:00</th>\n",
              "      <td>-8.41</td>\n",
              "    </tr>\n",
              "    <tr>\n",
              "      <th>01.01.2009 00:30:00</th>\n",
              "      <td>-8.51</td>\n",
              "    </tr>\n",
              "    <tr>\n",
              "      <th>01.01.2009 00:40:00</th>\n",
              "      <td>-8.31</td>\n",
              "    </tr>\n",
              "    <tr>\n",
              "      <th>01.01.2009 00:50:00</th>\n",
              "      <td>-8.27</td>\n",
              "    </tr>\n",
              "  </tbody>\n",
              "</table>\n",
              "</div>"
            ],
            "text/plain": [
              "                     T (degC)\n",
              "Date Time                    \n",
              "01.01.2009 00:10:00     -8.02\n",
              "01.01.2009 00:20:00     -8.41\n",
              "01.01.2009 00:30:00     -8.51\n",
              "01.01.2009 00:40:00     -8.31\n",
              "01.01.2009 00:50:00     -8.27"
            ]
          },
          "metadata": {
            "tags": []
          }
        },
        {
          "output_type": "stream",
          "text": [
            "train tail\n"
          ],
          "name": "stdout"
        },
        {
          "output_type": "display_data",
          "data": {
            "text/html": [
              "<div>\n",
              "<style scoped>\n",
              "    .dataframe tbody tr th:only-of-type {\n",
              "        vertical-align: middle;\n",
              "    }\n",
              "\n",
              "    .dataframe tbody tr th {\n",
              "        vertical-align: top;\n",
              "    }\n",
              "\n",
              "    .dataframe thead th {\n",
              "        text-align: right;\n",
              "    }\n",
              "</style>\n",
              "<table border=\"1\" class=\"dataframe\">\n",
              "  <thead>\n",
              "    <tr style=\"text-align: right;\">\n",
              "      <th></th>\n",
              "      <th>T (degC)</th>\n",
              "    </tr>\n",
              "    <tr>\n",
              "      <th>Date Time</th>\n",
              "      <th></th>\n",
              "    </tr>\n",
              "  </thead>\n",
              "  <tbody>\n",
              "    <tr>\n",
              "      <th>30.08.2011 05:00:00</th>\n",
              "      <td>7.37</td>\n",
              "    </tr>\n",
              "    <tr>\n",
              "      <th>30.08.2011 05:10:00</th>\n",
              "      <td>7.51</td>\n",
              "    </tr>\n",
              "    <tr>\n",
              "      <th>30.08.2011 05:20:00</th>\n",
              "      <td>8.08</td>\n",
              "    </tr>\n",
              "    <tr>\n",
              "      <th>30.08.2011 05:30:00</th>\n",
              "      <td>7.93</td>\n",
              "    </tr>\n",
              "    <tr>\n",
              "      <th>30.08.2011 05:40:00</th>\n",
              "      <td>7.44</td>\n",
              "    </tr>\n",
              "  </tbody>\n",
              "</table>\n",
              "</div>"
            ],
            "text/plain": [
              "                     T (degC)\n",
              "Date Time                    \n",
              "30.08.2011 05:00:00      7.37\n",
              "30.08.2011 05:10:00      7.51\n",
              "30.08.2011 05:20:00      8.08\n",
              "30.08.2011 05:30:00      7.93\n",
              "30.08.2011 05:40:00      7.44"
            ]
          },
          "metadata": {
            "tags": []
          }
        },
        {
          "output_type": "stream",
          "text": [
            "-----------------------\n",
            "validation head\n"
          ],
          "name": "stdout"
        },
        {
          "output_type": "display_data",
          "data": {
            "text/html": [
              "<div>\n",
              "<style scoped>\n",
              "    .dataframe tbody tr th:only-of-type {\n",
              "        vertical-align: middle;\n",
              "    }\n",
              "\n",
              "    .dataframe tbody tr th {\n",
              "        vertical-align: top;\n",
              "    }\n",
              "\n",
              "    .dataframe thead th {\n",
              "        text-align: right;\n",
              "    }\n",
              "</style>\n",
              "<table border=\"1\" class=\"dataframe\">\n",
              "  <thead>\n",
              "    <tr style=\"text-align: right;\">\n",
              "      <th></th>\n",
              "      <th>T (degC)</th>\n",
              "    </tr>\n",
              "    <tr>\n",
              "      <th>Date Time</th>\n",
              "      <th></th>\n",
              "    </tr>\n",
              "  </thead>\n",
              "  <tbody>\n",
              "    <tr>\n",
              "      <th>30.08.2011 05:50:00</th>\n",
              "      <td>7.46</td>\n",
              "    </tr>\n",
              "    <tr>\n",
              "      <th>30.08.2011 06:00:00</th>\n",
              "      <td>7.51</td>\n",
              "    </tr>\n",
              "    <tr>\n",
              "      <th>30.08.2011 06:10:00</th>\n",
              "      <td>6.93</td>\n",
              "    </tr>\n",
              "    <tr>\n",
              "      <th>30.08.2011 06:20:00</th>\n",
              "      <td>7.06</td>\n",
              "    </tr>\n",
              "    <tr>\n",
              "      <th>30.08.2011 06:30:00</th>\n",
              "      <td>7.49</td>\n",
              "    </tr>\n",
              "  </tbody>\n",
              "</table>\n",
              "</div>"
            ],
            "text/plain": [
              "                     T (degC)\n",
              "Date Time                    \n",
              "30.08.2011 05:50:00      7.46\n",
              "30.08.2011 06:00:00      7.51\n",
              "30.08.2011 06:10:00      6.93\n",
              "30.08.2011 06:20:00      7.06\n",
              "30.08.2011 06:30:00      7.49"
            ]
          },
          "metadata": {
            "tags": []
          }
        },
        {
          "output_type": "stream",
          "text": [
            "validation tail\n"
          ],
          "name": "stdout"
        },
        {
          "output_type": "display_data",
          "data": {
            "text/html": [
              "<div>\n",
              "<style scoped>\n",
              "    .dataframe tbody tr th:only-of-type {\n",
              "        vertical-align: middle;\n",
              "    }\n",
              "\n",
              "    .dataframe tbody tr th {\n",
              "        vertical-align: top;\n",
              "    }\n",
              "\n",
              "    .dataframe thead th {\n",
              "        text-align: right;\n",
              "    }\n",
              "</style>\n",
              "<table border=\"1\" class=\"dataframe\">\n",
              "  <thead>\n",
              "    <tr style=\"text-align: right;\">\n",
              "      <th></th>\n",
              "      <th>T (degC)</th>\n",
              "    </tr>\n",
              "    <tr>\n",
              "      <th>Date Time</th>\n",
              "      <th></th>\n",
              "    </tr>\n",
              "  </thead>\n",
              "  <tbody>\n",
              "    <tr>\n",
              "      <th>02.06.2012 23:40:00</th>\n",
              "      <td>9.41</td>\n",
              "    </tr>\n",
              "    <tr>\n",
              "      <th>02.06.2012 23:50:00</th>\n",
              "      <td>8.95</td>\n",
              "    </tr>\n",
              "    <tr>\n",
              "      <th>03.06.2012 00:00:00</th>\n",
              "      <td>8.84</td>\n",
              "    </tr>\n",
              "    <tr>\n",
              "      <th>03.06.2012 00:10:00</th>\n",
              "      <td>8.80</td>\n",
              "    </tr>\n",
              "    <tr>\n",
              "      <th>03.06.2012 00:20:00</th>\n",
              "      <td>8.72</td>\n",
              "    </tr>\n",
              "  </tbody>\n",
              "</table>\n",
              "</div>"
            ],
            "text/plain": [
              "                     T (degC)\n",
              "Date Time                    \n",
              "02.06.2012 23:40:00      9.41\n",
              "02.06.2012 23:50:00      8.95\n",
              "03.06.2012 00:00:00      8.84\n",
              "03.06.2012 00:10:00      8.80\n",
              "03.06.2012 00:20:00      8.72"
            ]
          },
          "metadata": {
            "tags": []
          }
        },
        {
          "output_type": "stream",
          "text": [
            "----------------------\n",
            "test head\n"
          ],
          "name": "stdout"
        },
        {
          "output_type": "display_data",
          "data": {
            "text/html": [
              "<div>\n",
              "<style scoped>\n",
              "    .dataframe tbody tr th:only-of-type {\n",
              "        vertical-align: middle;\n",
              "    }\n",
              "\n",
              "    .dataframe tbody tr th {\n",
              "        vertical-align: top;\n",
              "    }\n",
              "\n",
              "    .dataframe thead th {\n",
              "        text-align: right;\n",
              "    }\n",
              "</style>\n",
              "<table border=\"1\" class=\"dataframe\">\n",
              "  <thead>\n",
              "    <tr style=\"text-align: right;\">\n",
              "      <th></th>\n",
              "      <th>T (degC)</th>\n",
              "    </tr>\n",
              "    <tr>\n",
              "      <th>Date Time</th>\n",
              "      <th></th>\n",
              "    </tr>\n",
              "  </thead>\n",
              "  <tbody>\n",
              "    <tr>\n",
              "      <th>03.06.2012 00:30:00</th>\n",
              "      <td>8.69</td>\n",
              "    </tr>\n",
              "    <tr>\n",
              "      <th>03.06.2012 00:40:00</th>\n",
              "      <td>8.61</td>\n",
              "    </tr>\n",
              "    <tr>\n",
              "      <th>03.06.2012 00:50:00</th>\n",
              "      <td>8.53</td>\n",
              "    </tr>\n",
              "    <tr>\n",
              "      <th>03.06.2012 01:00:00</th>\n",
              "      <td>8.61</td>\n",
              "    </tr>\n",
              "    <tr>\n",
              "      <th>03.06.2012 01:10:00</th>\n",
              "      <td>8.46</td>\n",
              "    </tr>\n",
              "  </tbody>\n",
              "</table>\n",
              "</div>"
            ],
            "text/plain": [
              "                     T (degC)\n",
              "Date Time                    \n",
              "03.06.2012 00:30:00      8.69\n",
              "03.06.2012 00:40:00      8.61\n",
              "03.06.2012 00:50:00      8.53\n",
              "03.06.2012 01:00:00      8.61\n",
              "03.06.2012 01:10:00      8.46"
            ]
          },
          "metadata": {
            "tags": []
          }
        },
        {
          "output_type": "stream",
          "text": [
            "test head\n"
          ],
          "name": "stdout"
        },
        {
          "output_type": "display_data",
          "data": {
            "text/html": [
              "<div>\n",
              "<style scoped>\n",
              "    .dataframe tbody tr th:only-of-type {\n",
              "        vertical-align: middle;\n",
              "    }\n",
              "\n",
              "    .dataframe tbody tr th {\n",
              "        vertical-align: top;\n",
              "    }\n",
              "\n",
              "    .dataframe thead th {\n",
              "        text-align: right;\n",
              "    }\n",
              "</style>\n",
              "<table border=\"1\" class=\"dataframe\">\n",
              "  <thead>\n",
              "    <tr style=\"text-align: right;\">\n",
              "      <th></th>\n",
              "      <th>T (degC)</th>\n",
              "    </tr>\n",
              "    <tr>\n",
              "      <th>Date Time</th>\n",
              "      <th></th>\n",
              "    </tr>\n",
              "  </thead>\n",
              "  <tbody>\n",
              "    <tr>\n",
              "      <th>19.10.2012 21:00:00</th>\n",
              "      <td>14.78</td>\n",
              "    </tr>\n",
              "    <tr>\n",
              "      <th>19.10.2012 21:10:00</th>\n",
              "      <td>14.40</td>\n",
              "    </tr>\n",
              "    <tr>\n",
              "      <th>19.10.2012 21:20:00</th>\n",
              "      <td>14.06</td>\n",
              "    </tr>\n",
              "    <tr>\n",
              "      <th>19.10.2012 21:30:00</th>\n",
              "      <td>13.60</td>\n",
              "    </tr>\n",
              "    <tr>\n",
              "      <th>19.10.2012 21:40:00</th>\n",
              "      <td>13.42</td>\n",
              "    </tr>\n",
              "  </tbody>\n",
              "</table>\n",
              "</div>"
            ],
            "text/plain": [
              "                     T (degC)\n",
              "Date Time                    \n",
              "19.10.2012 21:00:00     14.78\n",
              "19.10.2012 21:10:00     14.40\n",
              "19.10.2012 21:20:00     14.06\n",
              "19.10.2012 21:30:00     13.60\n",
              "19.10.2012 21:40:00     13.42"
            ]
          },
          "metadata": {
            "tags": []
          }
        }
      ]
    },
    {
      "cell_type": "markdown",
      "metadata": {
        "id": "JjYpeDXpT_Ho",
        "colab_type": "text"
      },
      "source": [
        "## Concat < train + validation > to get scaling \n",
        "\n",
        "## Min Max scaling \n",
        "## $X_{sc}$ = $\\frac{X - X_{min}}{X_{max} - X_{min}}$\n",
        "\n",
        "\n",
        "----------------------------\n",
        "## Standard Scaling\n",
        "##  $x_{sc} = \\frac{x - \\bar{x}}{\\sigma}$\n",
        "\n",
        "$\\bar{x}$ : Mean X\n",
        "\n",
        "$\\sigma$ : Standard Deviation"
      ]
    },
    {
      "cell_type": "code",
      "metadata": {
        "id": "ur-eZU2mT9NK",
        "colab_type": "code",
        "colab": {
          "base_uri": "https://localhost:8080/",
          "height": 53
        },
        "outputId": "eb7b6ac8-4c36-436c-a562-f2de11f73dbf"
      },
      "source": [
        "print(train.shape)\n",
        "print(validation.shape)"
      ],
      "execution_count": 122,
      "outputs": [
        {
          "output_type": "stream",
          "text": [
            "(140000, 1)\n",
            "(40000, 1)\n"
          ],
          "name": "stdout"
        }
      ]
    },
    {
      "cell_type": "code",
      "metadata": {
        "id": "oH9l4_DnVZyK",
        "colab_type": "code",
        "colab": {}
      },
      "source": [
        "full_train = np.concatenate([train, validation])"
      ],
      "execution_count": 0,
      "outputs": []
    },
    {
      "cell_type": "code",
      "metadata": {
        "id": "WndqchYaVd_4",
        "colab_type": "code",
        "colab": {
          "base_uri": "https://localhost:8080/",
          "height": 35
        },
        "outputId": "b22f21bc-47a7-4280-a0e5-af6bc537f4fe"
      },
      "source": [
        "full_train.shape"
      ],
      "execution_count": 124,
      "outputs": [
        {
          "output_type": "execute_result",
          "data": {
            "text/plain": [
              "(180000, 1)"
            ]
          },
          "metadata": {
            "tags": []
          },
          "execution_count": 124
        }
      ]
    },
    {
      "cell_type": "code",
      "metadata": {
        "id": "WGeP1LRPVflt",
        "colab_type": "code",
        "colab": {}
      },
      "source": [
        "# 1) min max scale\n",
        "\n",
        "minmax_scale = MinMaxScaler()\n",
        "\n",
        "minmax_scale_result = minmax_scale.fit_transform(full_train)"
      ],
      "execution_count": 0,
      "outputs": []
    },
    {
      "cell_type": "code",
      "metadata": {
        "id": "74vqYFQkVnt8",
        "colab_type": "code",
        "colab": {}
      },
      "source": [
        "# 2) standard scale\n",
        "\n",
        "standard_scale = StandardScaler()\n",
        "\n",
        "standard_scale_result = standard_scale.fit_transform(full_train)"
      ],
      "execution_count": 0,
      "outputs": []
    },
    {
      "cell_type": "markdown",
      "metadata": {
        "id": "fg4clsp3VxBb",
        "colab_type": "text"
      },
      "source": [
        "### Use only Standard Scale just for example"
      ]
    },
    {
      "cell_type": "code",
      "metadata": {
        "id": "cuVgwsTzVu8a",
        "colab_type": "code",
        "colab": {
          "base_uri": "https://localhost:8080/",
          "height": 143
        },
        "outputId": "6f1d4d9f-e228-4e48-b308-c95338d51dcf"
      },
      "source": [
        "standard_scale_result"
      ],
      "execution_count": 127,
      "outputs": [
        {
          "output_type": "execute_result",
          "data": {
            "text/plain": [
              "array([[-1.85711709],\n",
              "       [-1.90158789],\n",
              "       [-1.91299065],\n",
              "       ...,\n",
              "       [ 0.06538945],\n",
              "       [ 0.06082835],\n",
              "       [ 0.05170613]])"
            ]
          },
          "metadata": {
            "tags": []
          },
          "execution_count": 127
        }
      ]
    },
    {
      "cell_type": "code",
      "metadata": {
        "id": "R849H-NCV2n5",
        "colab_type": "code",
        "colab": {
          "base_uri": "https://localhost:8080/",
          "height": 35
        },
        "outputId": "29b15d8f-0f22-4e12-f8e8-97f861106e78"
      },
      "source": [
        "standard_scale_result.shape"
      ],
      "execution_count": 128,
      "outputs": [
        {
          "output_type": "execute_result",
          "data": {
            "text/plain": [
              "(180000, 1)"
            ]
          },
          "metadata": {
            "tags": []
          },
          "execution_count": 128
        }
      ]
    },
    {
      "cell_type": "code",
      "metadata": {
        "id": "8YZPfpHEV3bY",
        "colab_type": "code",
        "colab": {}
      },
      "source": [
        "train = standard_scale_result[ : 140000]\n",
        "validation = standard_scale_result[140000 : ]"
      ],
      "execution_count": 0,
      "outputs": []
    },
    {
      "cell_type": "code",
      "metadata": {
        "id": "BtWExI9JV_lG",
        "colab_type": "code",
        "colab": {
          "base_uri": "https://localhost:8080/",
          "height": 125
        },
        "outputId": "b2e0082d-e9d8-4ac6-9f43-f76181588f32"
      },
      "source": [
        "print('train')\n",
        "print(train.shape)\n",
        "print('\\n')\n",
        "print('validation')\n",
        "print(validation.shape)"
      ],
      "execution_count": 131,
      "outputs": [
        {
          "output_type": "stream",
          "text": [
            "train\n",
            "(140000, 1)\n",
            "\n",
            "\n",
            "validation\n",
            "(40000, 1)\n"
          ],
          "name": "stdout"
        }
      ]
    },
    {
      "cell_type": "markdown",
      "metadata": {
        "id": "jbjRzrMjWIlT",
        "colab_type": "text"
      },
      "source": [
        "## Data preparation for LSTM\n",
        "\n",
        "### LSTM requires 3-D (Samples, TimeSteps, Features) \n",
        "\n",
        "### Single preparation shape <- (?, ?, 1)\n",
        "\n",
        "\n",
        "\n",
        "\n",
        "### Create Keras Generator\n",
        "\n",
        "\n",
        "### < Check the shame with change length, batch_size  >"
      ]
    },
    {
      "cell_type": "code",
      "metadata": {
        "id": "onv23mZidetd",
        "colab_type": "code",
        "colab": {}
      },
      "source": [
        "TimeseriesGenerator??  # <- return generator full source code"
      ],
      "execution_count": 0,
      "outputs": []
    },
    {
      "cell_type": "code",
      "metadata": {
        "id": "c6TOTlQAWDWN",
        "colab_type": "code",
        "colab": {}
      },
      "source": [
        "train_generator = TimeseriesGenerator(train, train, length=6, batch_size=6)"
      ],
      "execution_count": 0,
      "outputs": []
    },
    {
      "cell_type": "code",
      "metadata": {
        "id": "lhDXltzgXg0k",
        "colab_type": "code",
        "colab": {
          "base_uri": "https://localhost:8080/",
          "height": 1000
        },
        "outputId": "496cea89-20df-4824-e9b3-11af338b0efe"
      },
      "source": [
        "counter = 0\n",
        "for i in train_generator:\n",
        "  print('Full Generator Components\\n')\n",
        "  print(i)\n",
        "  print('-----------------\\n')\n",
        "  print('X_DATA\\n')\n",
        "  print(i[0])\n",
        "  print(i[0].shape)\n",
        "\n",
        "  print('-----------------\\n')\n",
        "  print('Y_DATA\\n')\n",
        "  print(i[1])\n",
        "  print(i[1].shape)\n",
        "\n",
        "  # generator <- generate whole data sets, below is only for show 1 generator result\n",
        "  counter += 1\n",
        "  if counter == 1:\n",
        "    break"
      ],
      "execution_count": 138,
      "outputs": [
        {
          "output_type": "stream",
          "text": [
            "Full Generator Components\n",
            "\n",
            "(array([[[-1.85711709],\n",
            "        [-1.90158789],\n",
            "        [-1.91299065],\n",
            "        [-1.89018512],\n",
            "        [-1.88562401],\n",
            "        [-1.86053792]],\n",
            "\n",
            "       [[-1.90158789],\n",
            "        [-1.91299065],\n",
            "        [-1.89018512],\n",
            "        [-1.88562401],\n",
            "        [-1.86053792],\n",
            "        [-1.81150603]],\n",
            "\n",
            "       [[-1.91299065],\n",
            "        [-1.89018512],\n",
            "        [-1.88562401],\n",
            "        [-1.86053792],\n",
            "        [-1.81150603],\n",
            "        [-1.81150603]],\n",
            "\n",
            "       [[-1.89018512],\n",
            "        [-1.88562401],\n",
            "        [-1.86053792],\n",
            "        [-1.81150603],\n",
            "        [-1.81150603],\n",
            "        [-1.84457405]],\n",
            "\n",
            "       [[-1.88562401],\n",
            "        [-1.86053792],\n",
            "        [-1.81150603],\n",
            "        [-1.81150603],\n",
            "        [-1.84457405],\n",
            "        [-1.90386844]],\n",
            "\n",
            "       [[-1.86053792],\n",
            "        [-1.81150603],\n",
            "        [-1.81150603],\n",
            "        [-1.84457405],\n",
            "        [-1.90386844],\n",
            "        [-1.94149757]]]), array([[-1.81150603],\n",
            "       [-1.81150603],\n",
            "       [-1.84457405],\n",
            "       [-1.90386844],\n",
            "       [-1.94149757],\n",
            "       [-1.95518089]]))\n",
            "-----------------\n",
            "\n",
            "X_DATA\n",
            "\n",
            "[[[-1.85711709]\n",
            "  [-1.90158789]\n",
            "  [-1.91299065]\n",
            "  [-1.89018512]\n",
            "  [-1.88562401]\n",
            "  [-1.86053792]]\n",
            "\n",
            " [[-1.90158789]\n",
            "  [-1.91299065]\n",
            "  [-1.89018512]\n",
            "  [-1.88562401]\n",
            "  [-1.86053792]\n",
            "  [-1.81150603]]\n",
            "\n",
            " [[-1.91299065]\n",
            "  [-1.89018512]\n",
            "  [-1.88562401]\n",
            "  [-1.86053792]\n",
            "  [-1.81150603]\n",
            "  [-1.81150603]]\n",
            "\n",
            " [[-1.89018512]\n",
            "  [-1.88562401]\n",
            "  [-1.86053792]\n",
            "  [-1.81150603]\n",
            "  [-1.81150603]\n",
            "  [-1.84457405]]\n",
            "\n",
            " [[-1.88562401]\n",
            "  [-1.86053792]\n",
            "  [-1.81150603]\n",
            "  [-1.81150603]\n",
            "  [-1.84457405]\n",
            "  [-1.90386844]]\n",
            "\n",
            " [[-1.86053792]\n",
            "  [-1.81150603]\n",
            "  [-1.81150603]\n",
            "  [-1.84457405]\n",
            "  [-1.90386844]\n",
            "  [-1.94149757]]]\n",
            "(6, 6, 1)\n",
            "-----------------\n",
            "\n",
            "Y_DATA\n",
            "\n",
            "[[-1.81150603]\n",
            " [-1.81150603]\n",
            " [-1.84457405]\n",
            " [-1.90386844]\n",
            " [-1.94149757]\n",
            " [-1.95518089]]\n",
            "(6, 1)\n"
          ],
          "name": "stdout"
        }
      ]
    },
    {
      "cell_type": "markdown",
      "metadata": {
        "id": "GLnNEeEtcCot",
        "colab_type": "text"
      },
      "source": [
        "## How many sets generated"
      ]
    },
    {
      "cell_type": "code",
      "metadata": {
        "id": "WnIqBN0HcD7G",
        "colab_type": "code",
        "colab": {}
      },
      "source": [
        "full_generator_x = []\n",
        "full_generator_y = []\n",
        "for i in train_generator:\n",
        "  full_generator_x.append(i[0])\n",
        "  full_generator_y.append(i[1])"
      ],
      "execution_count": 0,
      "outputs": []
    },
    {
      "cell_type": "code",
      "metadata": {
        "id": "VdsStO2Hcz5S",
        "colab_type": "code",
        "colab": {
          "base_uri": "https://localhost:8080/",
          "height": 35
        },
        "outputId": "d135ad72-bcb1-4869-b2ec-e55eb31698dd"
      },
      "source": [
        "len(full_generator_x)"
      ],
      "execution_count": 148,
      "outputs": [
        {
          "output_type": "execute_result",
          "data": {
            "text/plain": [
              "23333"
            ]
          },
          "metadata": {
            "tags": []
          },
          "execution_count": 148
        }
      ]
    },
    {
      "cell_type": "code",
      "metadata": {
        "id": "fpgm6mUMdB1s",
        "colab_type": "code",
        "colab": {
          "base_uri": "https://localhost:8080/",
          "height": 35
        },
        "outputId": "1b32c566-351d-41a1-fb36-2a88c1ceec69"
      },
      "source": [
        "len(full_generator_y)"
      ],
      "execution_count": 149,
      "outputs": [
        {
          "output_type": "execute_result",
          "data": {
            "text/plain": [
              "23333"
            ]
          },
          "metadata": {
            "tags": []
          },
          "execution_count": 149
        }
      ]
    },
    {
      "cell_type": "markdown",
      "metadata": {
        "id": "w-X7SuhhdKB3",
        "colab_type": "text"
      },
      "source": [
        "## Define Train, validation generator (Train generator is the same above)"
      ]
    },
    {
      "cell_type": "code",
      "metadata": {
        "id": "hO2S51MWdDot",
        "colab_type": "code",
        "colab": {}
      },
      "source": [
        "train_generator = TimeseriesGenerator(train, train, length=6, batch_size=6)\n",
        "\n",
        "valid_generator = TimeseriesGenerator(validation, validation, length=6, batch_size=6)"
      ],
      "execution_count": 0,
      "outputs": []
    },
    {
      "cell_type": "markdown",
      "metadata": {
        "id": "8de43lUqdozI",
        "colab_type": "text"
      },
      "source": [
        "## Define simple lstm model"
      ]
    },
    {
      "cell_type": "code",
      "metadata": {
        "id": "qeZb77XQdUZT",
        "colab_type": "code",
        "colab": {}
      },
      "source": [
        "model = models.Sequential()\n",
        "model.add(layers.CuDNNLSTM(32, input_shape=(6,1)))   # just for increase training speed, used CuDNN LSTM   # input_shape = (generator_batch_size, n_features)\n",
        "model.add(layers.Dense(16, activation='relu'))\n",
        "model.add(layers.Dense(1))\n",
        "\n",
        "\n",
        "model.compile(loss='mse', optimizer='rmsprop', metrics=['mae'])"
      ],
      "execution_count": 0,
      "outputs": []
    },
    {
      "cell_type": "markdown",
      "metadata": {
        "id": "R39C0beVgIgj",
        "colab_type": "text"
      },
      "source": [
        "## Input shape  = (generator_batch_size, n_feature)\n",
        "\n",
        "## For Single value, n_feature = 1"
      ]
    },
    {
      "cell_type": "code",
      "metadata": {
        "id": "kHU5-60Fd0Bo",
        "colab_type": "code",
        "colab": {
          "base_uri": "https://localhost:8080/",
          "height": 269
        },
        "outputId": "3f669c56-26f6-4eed-ed32-35c9ed0a94af"
      },
      "source": [
        "model.summary()"
      ],
      "execution_count": 161,
      "outputs": [
        {
          "output_type": "stream",
          "text": [
            "Model: \"sequential_3\"\n",
            "_________________________________________________________________\n",
            "Layer (type)                 Output Shape              Param #   \n",
            "=================================================================\n",
            "lstm_3 (LSTM)                (None, 32)                4992      \n",
            "_________________________________________________________________\n",
            "dense_3 (Dense)              (None, 16)                528       \n",
            "_________________________________________________________________\n",
            "dense_4 (Dense)              (None, 1)                 17        \n",
            "=================================================================\n",
            "Total params: 5,537\n",
            "Trainable params: 5,537\n",
            "Non-trainable params: 0\n",
            "_________________________________________________________________\n"
          ],
          "name": "stdout"
        }
      ]
    },
    {
      "cell_type": "code",
      "metadata": {
        "id": "XcQDlsimd33f",
        "colab_type": "code",
        "colab": {
          "base_uri": "https://localhost:8080/",
          "height": 270
        },
        "outputId": "e51bf49b-6384-4b20-ef72-b041340bbfcc"
      },
      "source": [
        "plot_model(model, show_shapes=True, dpi=60)"
      ],
      "execution_count": 162,
      "outputs": [
        {
          "output_type": "execute_result",
          "data": {
            "image/png": "[encoded data removed]",
            "text/plain": [
              "<IPython.core.display.Image object>"
            ]
          },
          "metadata": {
            "tags": []
          },
          "execution_count": 162
        }
      ]
    },
    {
      "cell_type": "markdown",
      "metadata": {
        "id": "LM9F7nC6eLAj",
        "colab_type": "text"
      },
      "source": [
        "## Create Usefull Callback"
      ]
    },
    {
      "cell_type": "code",
      "metadata": {
        "id": "VzVJ7660d-iN",
        "colab_type": "code",
        "colab": {}
      },
      "source": [
        "# callback 1) model check point\n",
        "call_cp = callbacks.ModelCheckpoint('lstm_model.h5', monitor='val_loss', verbose=1, save_best_only=True)\n",
        "\n",
        "# callback 2) reduce learning rate\n",
        "call_lr = callbacks.ReduceLROnPlateau(monitor='val_loss', factor=0.3, patience=5, verbose=1)\n",
        "\n",
        "# callback 3) early stop\n",
        "call_es = callbacks.EarlyStopping(monitor='val_loss', patience=10, verbose=1)"
      ],
      "execution_count": 0,
      "outputs": []
    },
    {
      "cell_type": "markdown",
      "metadata": {
        "id": "tC60L8ddeu9C",
        "colab_type": "text"
      },
      "source": [
        "## Fit model \n",
        "\n",
        "### created generator, \n",
        "### to fit the model, use \" fit_generator \""
      ]
    },
    {
      "cell_type": "code",
      "metadata": {
        "id": "ZrM11bqre4Jq",
        "colab_type": "code",
        "colab": {
          "base_uri": "https://localhost:8080/",
          "height": 89
        },
        "outputId": "97bb6801-2847-4982-86a7-5846caf54887"
      },
      "source": [
        "train_step = train_generator.end_index // train_generator.batch_size\n",
        "print('train_step : ', train_step, '\\n')\n",
        "\n",
        "valid_step = valid_generator.end_index // valid_generator.batch_size\n",
        "print('valid_step : ', valid_step, '\\n')"
      ],
      "execution_count": 168,
      "outputs": [
        {
          "output_type": "stream",
          "text": [
            "train_step :  23333 \n",
            "\n",
            "valid_step :  6666 \n",
            "\n"
          ],
          "name": "stdout"
        }
      ]
    },
    {
      "cell_type": "markdown",
      "metadata": {
        "id": "O1bIJydoglFA",
        "colab_type": "text"
      },
      "source": [
        "## By setting callback : verbose = 1\n",
        "### 1) can see when model is saved\n",
        "### 2) how optimizer learning rate reduced"
      ]
    },
    {
      "cell_type": "code",
      "metadata": {
        "id": "EtAYsNjRep6Z",
        "colab_type": "code",
        "colab": {
          "base_uri": "https://localhost:8080/",
          "height": 773
        },
        "outputId": "d12a88e8-1ec5-41f0-bc8b-d9e769343ccd"
      },
      "source": [
        "# just for example, used 10 epoch\n",
        "\n",
        "model_result = model.fit_generator(train_generator, \n",
        "                                   steps_per_epoch= train_step, \n",
        "                                   epochs=10, \n",
        "                                   validation_data=valid_generator, \n",
        "                                   validation_steps=valid_step, \n",
        "                                   callbacks = [call_cp, call_lr, call_es])"
      ],
      "execution_count": 174,
      "outputs": [
        {
          "output_type": "stream",
          "text": [
            "Epoch 1/10\n",
            "23333/23333 [==============================] - 154s 7ms/step - loss: 0.0016 - mean_absolute_error: 0.0279 - val_loss: 9.8277e-04 - val_mean_absolute_error: 0.0184\n",
            "\n",
            "Epoch 00001: val_loss improved from inf to 0.00098, saving model to lstm_model.h5\n",
            "Epoch 2/10\n",
            "23333/23333 [==============================] - 155s 7ms/step - loss: 0.0010 - mean_absolute_error: 0.0227 - val_loss: 5.8914e-04 - val_mean_absolute_error: 0.0164\n",
            "\n",
            "Epoch 00002: val_loss improved from 0.00098 to 0.00059, saving model to lstm_model.h5\n",
            "Epoch 3/10\n",
            "23333/23333 [==============================] - 156s 7ms/step - loss: 9.7975e-04 - mean_absolute_error: 0.0219 - val_loss: 5.1484e-04 - val_mean_absolute_error: 0.0146\n",
            "\n",
            "Epoch 00003: val_loss improved from 0.00059 to 0.00051, saving model to lstm_model.h5\n",
            "Epoch 4/10\n",
            "23333/23333 [==============================] - 156s 7ms/step - loss: 0.0010 - mean_absolute_error: 0.0220 - val_loss: 0.0016 - val_mean_absolute_error: 0.0285\n",
            "\n",
            "Epoch 00004: val_loss did not improve from 0.00051\n",
            "Epoch 5/10\n",
            "23333/23333 [==============================] - 154s 7ms/step - loss: 9.5232e-04 - mean_absolute_error: 0.0215 - val_loss: 5.8499e-04 - val_mean_absolute_error: 0.0160\n",
            "\n",
            "Epoch 00005: val_loss did not improve from 0.00051\n",
            "Epoch 6/10\n",
            "23333/23333 [==============================] - 154s 7ms/step - loss: 9.2890e-04 - mean_absolute_error: 0.0211 - val_loss: 5.2683e-04 - val_mean_absolute_error: 0.0147\n",
            "\n",
            "Epoch 00006: val_loss did not improve from 0.00051\n",
            "Epoch 7/10\n",
            "23333/23333 [==============================] - 155s 7ms/step - loss: 8.9094e-04 - mean_absolute_error: 0.0207 - val_loss: 0.0012 - val_mean_absolute_error: 0.0278\n",
            "\n",
            "Epoch 00007: val_loss did not improve from 0.00051\n",
            "\n",
            "Epoch 00007: ReduceLROnPlateau reducing learning rate to 0.0003000000142492354.\n",
            "Epoch 8/10\n",
            "23333/23333 [==============================] - 156s 7ms/step - loss: 6.9521e-04 - mean_absolute_error: 0.0166 - val_loss: 6.6105e-04 - val_mean_absolute_error: 0.0182\n",
            "\n",
            "Epoch 00008: val_loss did not improve from 0.00051\n",
            "Epoch 9/10\n",
            "23333/23333 [==============================] - 155s 7ms/step - loss: 6.4591e-04 - mean_absolute_error: 0.0166 - val_loss: 5.1256e-04 - val_mean_absolute_error: 0.0146\n",
            "\n",
            "Epoch 00009: val_loss improved from 0.00051 to 0.00051, saving model to lstm_model.h5\n",
            "Epoch 10/10\n",
            "23333/23333 [==============================] - 155s 7ms/step - loss: 6.5580e-04 - mean_absolute_error: 0.0166 - val_loss: 5.5483e-04 - val_mean_absolute_error: 0.0157\n",
            "\n",
            "Epoch 00010: val_loss did not improve from 0.00051\n"
          ],
          "name": "stdout"
        }
      ]
    },
    {
      "cell_type": "markdown",
      "metadata": {
        "id": "DQ3iTMJhlqgi",
        "colab_type": "text"
      },
      "source": [
        "## Plot model result"
      ]
    },
    {
      "cell_type": "code",
      "metadata": {
        "id": "kivs5Gk9lr2V",
        "colab_type": "code",
        "colab": {
          "base_uri": "https://localhost:8080/",
          "height": 392
        },
        "outputId": "decd1d3a-8e16-4c89-f755-12c39933bf3c"
      },
      "source": [
        "train_result = model_result.history\n",
        "epoch = np.arange(1, 10 + 1)\n",
        "\n",
        "plt.figure(figsize=(15,6))\n",
        "plt.subplot(1,2,1)\n",
        "plt.plot(epoch, train_result['loss'], label='loss', c='b')\n",
        "plt.plot(epoch, train_result['val_loss'], label='val_loss', c='r')\n",
        "plt.legend()\n",
        "\n",
        "plt.subplot(1,2,2)\n",
        "plt.plot(epoch, train_result['mean_absolute_error'], label='mean_abs_error', c='g')\n",
        "plt.plot(epoch, train_result['val_mean_absolute_error'], label='val_mean_abs_error', c='y')\n",
        "plt.legend()\n"
      ],
      "execution_count": 186,
      "outputs": [
        {
          "output_type": "execute_result",
          "data": {
            "text/plain": [
              "<matplotlib.legend.Legend at 0x7f2807e94780>"
            ]
          },
          "metadata": {
            "tags": []
          },
          "execution_count": 186
        },
        {
          "output_type": "display_data",
          "data": {
            "image/png": "[encoded data removed]",
            "text/plain": [
              "<Figure size 1080x432 with 2 Axes>"
            ]
          },
          "metadata": {
            "tags": []
          }
        }
      ]
    },
    {
      "cell_type": "markdown",
      "metadata": {
        "id": "jeJ9erkGg1nq",
        "colab_type": "text"
      },
      "source": [
        "## load saved model evaluation"
      ]
    },
    {
      "cell_type": "code",
      "metadata": {
        "id": "SsxIHvS7fc2t",
        "colab_type": "code",
        "colab": {}
      },
      "source": [
        "saved_model = models.load_model('/content/lstm_model.h5')"
      ],
      "execution_count": 0,
      "outputs": []
    },
    {
      "cell_type": "code",
      "metadata": {
        "id": "-sLMG7tum-D1",
        "colab_type": "code",
        "colab": {
          "base_uri": "https://localhost:8080/",
          "height": 35
        },
        "outputId": "4833773d-9d44-4114-8f74-92a701f6617d"
      },
      "source": [
        "saved_model.evaluate_generator(valid_generator, steps=valid_step)"
      ],
      "execution_count": 188,
      "outputs": [
        {
          "output_type": "execute_result",
          "data": {
            "text/plain": [
              "[0.0005125582183091162, 0.014572180740402944]"
            ]
          },
          "metadata": {
            "tags": []
          },
          "execution_count": 188
        }
      ]
    },
    {
      "cell_type": "markdown",
      "metadata": {
        "id": "1rTH83lynGfA",
        "colab_type": "text"
      },
      "source": [
        "## Compare the original data & Predicted Data"
      ]
    },
    {
      "cell_type": "code",
      "metadata": {
        "id": "caDfxJZ4nigH",
        "colab_type": "code",
        "colab": {
          "base_uri": "https://localhost:8080/",
          "height": 35
        },
        "outputId": "206d681f-1b95-4ba7-dd6b-9b32594d171f"
      },
      "source": [
        "valid_generator.end_index"
      ],
      "execution_count": 200,
      "outputs": [
        {
          "output_type": "execute_result",
          "data": {
            "text/plain": [
              "39999"
            ]
          },
          "metadata": {
            "tags": []
          },
          "execution_count": 200
        }
      ]
    },
    {
      "cell_type": "code",
      "metadata": {
        "id": "fYb_Mb3LnXDl",
        "colab_type": "code",
        "colab": {}
      },
      "source": [
        "y_pred = saved_model.predict_generator(valid_generator)"
      ],
      "execution_count": 0,
      "outputs": []
    },
    {
      "cell_type": "code",
      "metadata": {
        "id": "HCuhnG1Gnb5e",
        "colab_type": "code",
        "colab": {
          "base_uri": "https://localhost:8080/",
          "height": 35
        },
        "outputId": "5bb314a5-6285-439f-826e-3e5759256d39"
      },
      "source": [
        "y_pred.shape"
      ],
      "execution_count": 204,
      "outputs": [
        {
          "output_type": "execute_result",
          "data": {
            "text/plain": [
              "(39994, 1)"
            ]
          },
          "metadata": {
            "tags": []
          },
          "execution_count": 204
        }
      ]
    },
    {
      "cell_type": "code",
      "metadata": {
        "id": "--pSoraQndHl",
        "colab_type": "code",
        "colab": {
          "base_uri": "https://localhost:8080/",
          "height": 35
        },
        "outputId": "112fc680-a0cd-4e74-9daf-d133d93917a4"
      },
      "source": [
        "validation.shape"
      ],
      "execution_count": 198,
      "outputs": [
        {
          "output_type": "execute_result",
          "data": {
            "text/plain": [
              "(40000, 1)"
            ]
          },
          "metadata": {
            "tags": []
          },
          "execution_count": 198
        }
      ]
    },
    {
      "cell_type": "code",
      "metadata": {
        "id": "IDHn33kooWIl",
        "colab_type": "code",
        "colab": {
          "base_uri": "https://localhost:8080/",
          "height": 35
        },
        "outputId": "62292ade-08f0-4b61-bf16-a3a7035b450e"
      },
      "source": [
        "y_pred.shape"
      ],
      "execution_count": 212,
      "outputs": [
        {
          "output_type": "execute_result",
          "data": {
            "text/plain": [
              "(39994, 1)"
            ]
          },
          "metadata": {
            "tags": []
          },
          "execution_count": 212
        }
      ]
    },
    {
      "cell_type": "code",
      "metadata": {
        "id": "PJ_Bi-lroXWc",
        "colab_type": "code",
        "colab": {
          "base_uri": "https://localhost:8080/",
          "height": 322
        },
        "outputId": "bda84b90-4eb3-4416-c5de-e798ce4effe7"
      },
      "source": [
        "sns.scatterplot(y_pred)"
      ],
      "execution_count": 211,
      "outputs": [
        {
          "output_type": "error",
          "ename": "ValueError",
          "evalue": "ignored",
          "traceback": [
            "\u001b[0;31m---------------------------------------------------------------------------\u001b[0m",
            "\u001b[0;31mValueError\u001b[0m                                Traceback (most recent call last)",
            "\u001b[0;32m<ipython-input-211-0aff3a210092>\u001b[0m in \u001b[0;36m<module>\u001b[0;34m()\u001b[0m\n\u001b[0;32m----> 1\u001b[0;31m \u001b[0msns\u001b[0m\u001b[0;34m.\u001b[0m\u001b[0mscatterplot\u001b[0m\u001b[0;34m(\u001b[0m\u001b[0my_pred\u001b[0m\u001b[0;34m)\u001b[0m\u001b[0;34m\u001b[0m\u001b[0;34m\u001b[0m\u001b[0m\n\u001b[0m",
            "\u001b[0;32m/usr/local/lib/python3.6/dist-packages/seaborn/relational.py\u001b[0m in \u001b[0;36mscatterplot\u001b[0;34m(x, y, hue, style, size, data, palette, hue_order, hue_norm, sizes, size_order, size_norm, markers, style_order, x_bins, y_bins, units, estimator, ci, n_boot, alpha, x_jitter, y_jitter, legend, ax, **kwargs)\u001b[0m\n\u001b[1;32m   1333\u001b[0m         \u001b[0mx_bins\u001b[0m\u001b[0;34m=\u001b[0m\u001b[0mx_bins\u001b[0m\u001b[0;34m,\u001b[0m \u001b[0my_bins\u001b[0m\u001b[0;34m=\u001b[0m\u001b[0my_bins\u001b[0m\u001b[0;34m,\u001b[0m\u001b[0;34m\u001b[0m\u001b[0;34m\u001b[0m\u001b[0m\n\u001b[1;32m   1334\u001b[0m         \u001b[0mestimator\u001b[0m\u001b[0;34m=\u001b[0m\u001b[0mestimator\u001b[0m\u001b[0;34m,\u001b[0m \u001b[0mci\u001b[0m\u001b[0;34m=\u001b[0m\u001b[0mci\u001b[0m\u001b[0;34m,\u001b[0m \u001b[0mn_boot\u001b[0m\u001b[0;34m=\u001b[0m\u001b[0mn_boot\u001b[0m\u001b[0;34m,\u001b[0m\u001b[0;34m\u001b[0m\u001b[0;34m\u001b[0m\u001b[0m\n\u001b[0;32m-> 1335\u001b[0;31m         \u001b[0malpha\u001b[0m\u001b[0;34m=\u001b[0m\u001b[0malpha\u001b[0m\u001b[0;34m,\u001b[0m \u001b[0mx_jitter\u001b[0m\u001b[0;34m=\u001b[0m\u001b[0mx_jitter\u001b[0m\u001b[0;34m,\u001b[0m \u001b[0my_jitter\u001b[0m\u001b[0;34m=\u001b[0m\u001b[0my_jitter\u001b[0m\u001b[0;34m,\u001b[0m \u001b[0mlegend\u001b[0m\u001b[0;34m=\u001b[0m\u001b[0mlegend\u001b[0m\u001b[0;34m,\u001b[0m\u001b[0;34m\u001b[0m\u001b[0;34m\u001b[0m\u001b[0m\n\u001b[0m\u001b[1;32m   1336\u001b[0m     )\n\u001b[1;32m   1337\u001b[0m \u001b[0;34m\u001b[0m\u001b[0m\n",
            "\u001b[0;32m/usr/local/lib/python3.6/dist-packages/seaborn/relational.py\u001b[0m in \u001b[0;36m__init__\u001b[0;34m(self, x, y, hue, size, style, data, palette, hue_order, hue_norm, sizes, size_order, size_norm, dashes, markers, style_order, x_bins, y_bins, units, estimator, ci, n_boot, alpha, x_jitter, y_jitter, legend)\u001b[0m\n\u001b[1;32m    850\u001b[0m \u001b[0;34m\u001b[0m\u001b[0m\n\u001b[1;32m    851\u001b[0m         plot_data = self.establish_variables(\n\u001b[0;32m--> 852\u001b[0;31m             \u001b[0mx\u001b[0m\u001b[0;34m,\u001b[0m \u001b[0my\u001b[0m\u001b[0;34m,\u001b[0m \u001b[0mhue\u001b[0m\u001b[0;34m,\u001b[0m \u001b[0msize\u001b[0m\u001b[0;34m,\u001b[0m \u001b[0mstyle\u001b[0m\u001b[0;34m,\u001b[0m \u001b[0munits\u001b[0m\u001b[0;34m,\u001b[0m \u001b[0mdata\u001b[0m\u001b[0;34m\u001b[0m\u001b[0;34m\u001b[0m\u001b[0m\n\u001b[0m\u001b[1;32m    853\u001b[0m         )\n\u001b[1;32m    854\u001b[0m \u001b[0;34m\u001b[0m\u001b[0m\n",
            "\u001b[0;32m/usr/local/lib/python3.6/dist-packages/seaborn/relational.py\u001b[0m in \u001b[0;36mestablish_variables\u001b[0;34m(self, x, y, hue, size, style, units, data)\u001b[0m\n\u001b[1;32m    164\u001b[0m             err = (\"Either both or neither of `x` and `y` must be specified \"\n\u001b[1;32m    165\u001b[0m                    \"(but try passing to `data`, which is more flexible).\")\n\u001b[0;32m--> 166\u001b[0;31m             \u001b[0;32mraise\u001b[0m \u001b[0mValueError\u001b[0m\u001b[0;34m(\u001b[0m\u001b[0merr\u001b[0m\u001b[0;34m)\u001b[0m\u001b[0;34m\u001b[0m\u001b[0;34m\u001b[0m\u001b[0m\n\u001b[0m\u001b[1;32m    167\u001b[0m \u001b[0;34m\u001b[0m\u001b[0m\n\u001b[1;32m    168\u001b[0m         \u001b[0;31m# ---- Post-processing\u001b[0m\u001b[0;34m\u001b[0m\u001b[0;34m\u001b[0m\u001b[0;34m\u001b[0m\u001b[0m\n",
            "\u001b[0;31mValueError\u001b[0m: Either both or neither of `x` and `y` must be specified (but try passing to `data`, which is more flexible)."
          ]
        }
      ]
    },
    {
      "cell_type": "code",
      "metadata": {
        "id": "ZPvUkJivnFJh",
        "colab_type": "code",
        "colab": {
          "base_uri": "https://localhost:8080/",
          "height": 501
        },
        "outputId": "fe7e2ca3-ff56-4495-9117-3e802f6f43b8"
      },
      "source": [
        "plt.figure(figsize=(20,8))\n",
        "plt.subplot(1,2,1)\n",
        "plt.plot(validation[:y_pred.shape[0]], label='Original')\n",
        "plt.legend()\n",
        "\n",
        "plt.subplot(1,2,2)\n",
        "plt.plot(y_pred, label='predicted', c='r')\n",
        "plt.legend()"
      ],
      "execution_count": 229,
      "outputs": [
        {
          "output_type": "execute_result",
          "data": {
            "text/plain": [
              "<matplotlib.legend.Legend at 0x7f280536dfd0>"
            ]
          },
          "metadata": {
            "tags": []
          },
          "execution_count": 229
        },
        {
          "output_type": "display_data",
          "data": {
            "image/png": "[encoded data removed]",
            "text/plain": [
              "<Figure size 1440x576 with 2 Axes>"
            ]
          },
          "metadata": {
            "tags": []
          }
        }
      ]
    },
    {
      "cell_type": "markdown",
      "metadata": {
        "id": "AbYH5qlVpO7k",
        "colab_type": "text"
      },
      "source": [
        "## 제네레이터 Batch_size & Length 변경 및 학습 진행"
      ]
    },
    {
      "cell_type": "code",
      "metadata": {
        "id": "8No0tubspZVy",
        "colab_type": "code",
        "colab": {}
      },
      "source": [
        "############################################################################\n",
        "#\n",
        "#                                숫자 변경  필요                            #\n",
        "#                generator_batch_size         generator_length\n",
        "############################################################################\n",
        "\n",
        "generator_batch_size = 6   # change here\n",
        "generator_length = 6\n",
        "\n",
        "\n",
        "# generator\n",
        "train_generator = TimeseriesGenerator(train, train, length=generator_length, batch_size=generator_batch_size)\n",
        "valid_generator = TimeseriesGenerator(validation, validation, length=generator_length, batch_size=generator_batch_size)"
      ],
      "execution_count": 0,
      "outputs": []
    },
    {
      "cell_type": "code",
      "metadata": {
        "id": "D5ulNNKPpZTy",
        "colab_type": "code",
        "colab": {
          "base_uri": "https://localhost:8080/",
          "height": 1000
        },
        "outputId": "4130daa8-2e90-4e19-f21a-cc9549ca3765"
      },
      "source": [
        "# 제네레이터 내부 확인\n",
        "\n",
        "counter = 0\n",
        "for i in train_generator:\n",
        "  print('Full Generator Components\\n')\n",
        "  print(i)\n",
        "  print('-----------------\\n')\n",
        "  print('X_DATA\\n')\n",
        "  print(i[0])\n",
        "  print(i[0].shape)\n",
        "\n",
        "  print('-----------------\\n')\n",
        "  print('Y_DATA\\n')\n",
        "  print(i[1])\n",
        "  print(i[1].shape)\n",
        "\n",
        "  # generator <- generate whole data sets, below is only for show 1 generator result\n",
        "  counter += 1\n",
        "  if counter == 1:\n",
        "    break"
      ],
      "execution_count": 231,
      "outputs": [
        {
          "output_type": "stream",
          "text": [
            "Full Generator Components\n",
            "\n",
            "(array([[[-1.85711709],\n",
            "        [-1.90158789],\n",
            "        [-1.91299065],\n",
            "        [-1.89018512],\n",
            "        [-1.88562401],\n",
            "        [-1.86053792]],\n",
            "\n",
            "       [[-1.90158789],\n",
            "        [-1.91299065],\n",
            "        [-1.89018512],\n",
            "        [-1.88562401],\n",
            "        [-1.86053792],\n",
            "        [-1.81150603]],\n",
            "\n",
            "       [[-1.91299065],\n",
            "        [-1.89018512],\n",
            "        [-1.88562401],\n",
            "        [-1.86053792],\n",
            "        [-1.81150603],\n",
            "        [-1.81150603]],\n",
            "\n",
            "       [[-1.89018512],\n",
            "        [-1.88562401],\n",
            "        [-1.86053792],\n",
            "        [-1.81150603],\n",
            "        [-1.81150603],\n",
            "        [-1.84457405]],\n",
            "\n",
            "       [[-1.88562401],\n",
            "        [-1.86053792],\n",
            "        [-1.81150603],\n",
            "        [-1.81150603],\n",
            "        [-1.84457405],\n",
            "        [-1.90386844]],\n",
            "\n",
            "       [[-1.86053792],\n",
            "        [-1.81150603],\n",
            "        [-1.81150603],\n",
            "        [-1.84457405],\n",
            "        [-1.90386844],\n",
            "        [-1.94149757]]]), array([[-1.81150603],\n",
            "       [-1.81150603],\n",
            "       [-1.84457405],\n",
            "       [-1.90386844],\n",
            "       [-1.94149757],\n",
            "       [-1.95518089]]))\n",
            "-----------------\n",
            "\n",
            "X_DATA\n",
            "\n",
            "[[[-1.85711709]\n",
            "  [-1.90158789]\n",
            "  [-1.91299065]\n",
            "  [-1.89018512]\n",
            "  [-1.88562401]\n",
            "  [-1.86053792]]\n",
            "\n",
            " [[-1.90158789]\n",
            "  [-1.91299065]\n",
            "  [-1.89018512]\n",
            "  [-1.88562401]\n",
            "  [-1.86053792]\n",
            "  [-1.81150603]]\n",
            "\n",
            " [[-1.91299065]\n",
            "  [-1.89018512]\n",
            "  [-1.88562401]\n",
            "  [-1.86053792]\n",
            "  [-1.81150603]\n",
            "  [-1.81150603]]\n",
            "\n",
            " [[-1.89018512]\n",
            "  [-1.88562401]\n",
            "  [-1.86053792]\n",
            "  [-1.81150603]\n",
            "  [-1.81150603]\n",
            "  [-1.84457405]]\n",
            "\n",
            " [[-1.88562401]\n",
            "  [-1.86053792]\n",
            "  [-1.81150603]\n",
            "  [-1.81150603]\n",
            "  [-1.84457405]\n",
            "  [-1.90386844]]\n",
            "\n",
            " [[-1.86053792]\n",
            "  [-1.81150603]\n",
            "  [-1.81150603]\n",
            "  [-1.84457405]\n",
            "  [-1.90386844]\n",
            "  [-1.94149757]]]\n",
            "(6, 6, 1)\n",
            "-----------------\n",
            "\n",
            "Y_DATA\n",
            "\n",
            "[[-1.81150603]\n",
            " [-1.81150603]\n",
            " [-1.84457405]\n",
            " [-1.90386844]\n",
            " [-1.94149757]\n",
            " [-1.95518089]]\n",
            "(6, 1)\n"
          ],
          "name": "stdout"
        }
      ]
    },
    {
      "cell_type": "code",
      "metadata": {
        "id": "HKoPK9nbp4Si",
        "colab_type": "code",
        "colab": {
          "base_uri": "https://localhost:8080/",
          "height": 269
        },
        "outputId": "ce31d705-45fc-49bb-a6d9-b76ec554b063"
      },
      "source": [
        "model = models.Sequential()\n",
        "model.add(layers.CuDNNLSTM(32, input_shape=(6,1)))   # just for increase training speed, used CuDNN LSTM   # input_shape = (generator_batch_size, n_features)\n",
        "model.add(layers.Dense(16, activation='relu'))\n",
        "model.add(layers.Dense(1))\n",
        "\n",
        "model.summary()\n",
        "\n",
        "model.compile(loss='mse', optimizer='rmsprop', metrics=['mae'])\n"
      ],
      "execution_count": 232,
      "outputs": [
        {
          "output_type": "stream",
          "text": [
            "Model: \"sequential_6\"\n",
            "_________________________________________________________________\n",
            "Layer (type)                 Output Shape              Param #   \n",
            "=================================================================\n",
            "cu_dnnlstm_2 (CuDNNLSTM)     (None, 32)                4480      \n",
            "_________________________________________________________________\n",
            "dense_9 (Dense)              (None, 16)                528       \n",
            "_________________________________________________________________\n",
            "dense_10 (Dense)             (None, 1)                 17        \n",
            "=================================================================\n",
            "Total params: 5,025\n",
            "Trainable params: 5,025\n",
            "Non-trainable params: 0\n",
            "_________________________________________________________________\n"
          ],
          "name": "stdout"
        }
      ]
    },
    {
      "cell_type": "code",
      "metadata": {
        "id": "HvWwQmk9p48U",
        "colab_type": "code",
        "colab": {
          "base_uri": "https://localhost:8080/",
          "height": 270
        },
        "outputId": "1e291a20-6f40-40a1-9534-b99d1ebce9c4"
      },
      "source": [
        "# 모델 내부 Tensor Graph 확인 Plot\n",
        "\n",
        "plot_model(model, show_shapes=True, dpi=60)"
      ],
      "execution_count": 233,
      "outputs": [
        {
          "output_type": "execute_result",
          "data": {
            "image/png": "[encoded data removed]",
            "text/plain": [
              "<IPython.core.display.Image object>"
            ]
          },
          "metadata": {
            "tags": []
          },
          "execution_count": 233
        }
      ]
    },
    {
      "cell_type": "code",
      "metadata": {
        "id": "RgNM7DvuqB7y",
        "colab_type": "code",
        "colab": {
          "base_uri": "https://localhost:8080/",
          "height": 89
        },
        "outputId": "9c709006-73b9-4746-d49f-3e825b36265c"
      },
      "source": [
        "# 학습을 위한 Step 설정\n",
        "\n",
        "train_step = train_generator.end_index // train_generator.batch_size\n",
        "print('train_step : ', train_step, '\\n')\n",
        "\n",
        "valid_step = valid_generator.end_index // valid_generator.batch_size\n",
        "print('valid_step : ', valid_step, '\\n')"
      ],
      "execution_count": 234,
      "outputs": [
        {
          "output_type": "stream",
          "text": [
            "train_step :  23333 \n",
            "\n",
            "valid_step :  6666 \n",
            "\n"
          ],
          "name": "stdout"
        }
      ]
    },
    {
      "cell_type": "code",
      "metadata": {
        "id": "qb_yqTvJqL5-",
        "colab_type": "code",
        "colab": {}
      },
      "source": [
        "# 모델 학습진행시 Callbacks\n",
        "\n",
        "# callback 1) model check point\n",
        "call_cp = callbacks.ModelCheckpoint('lstm_model.h5', monitor='val_loss', verbose=1, save_best_only=True)\n",
        "\n",
        "# callback 2) reduce learning rate\n",
        "call_lr = callbacks.ReduceLROnPlateau(monitor='val_loss', factor=0.3, patience=5, verbose=1)\n",
        "\n",
        "# callback 3) early stop\n",
        "call_es = callbacks.EarlyStopping(monitor='val_loss', patience=10, verbose=1)"
      ],
      "execution_count": 0,
      "outputs": []
    },
    {
      "cell_type": "code",
      "metadata": {
        "id": "fwRwnwuMqP-t",
        "colab_type": "code",
        "colab": {}
      },
      "source": [
        "# 모델 학습\n",
        "\n",
        "# just for example, used 10 epoch\n",
        "\n",
        "############################################################################\n",
        "#\n",
        "#                                숫자 변경  필요                            #\n",
        "#                                  train_epoch\n",
        "############################################################################\n",
        "\n",
        "train_epoch = 10\n",
        "\n",
        "\n",
        "\n",
        "model_result = model.fit_generator(train_generator, \n",
        "                                   steps_per_epoch= train_step, \n",
        "                                   epochs= train_epoch, \n",
        "                                   validation_data=valid_generator, \n",
        "                                   validation_steps=valid_step, \n",
        "                                   callbacks = [call_cp, call_lr, call_es])"
      ],
      "execution_count": 0,
      "outputs": []
    },
    {
      "cell_type": "code",
      "metadata": {
        "id": "dr-BWrAkqTQ-",
        "colab_type": "code",
        "colab": {}
      },
      "source": [
        "# 학습 loss 그래프\n",
        "\n",
        "train_result = model_result.history\n",
        "epoch = np.arange(1, 10 + 1)\n",
        "\n",
        "plt.figure(figsize=(15,6))\n",
        "plt.subplot(1,2,1)\n",
        "plt.plot(epoch, train_result['loss'], label='loss', c='b')\n",
        "plt.plot(epoch, train_result['val_loss'], label='val_loss', c='r')\n",
        "plt.legend()\n",
        "\n",
        "plt.subplot(1,2,2)\n",
        "plt.plot(epoch, train_result['mean_absolute_error'], label='mean_abs_error', c='g')\n",
        "plt.plot(epoch, train_result['val_mean_absolute_error'], label='val_mean_abs_error', c='y')\n",
        "plt.legend()\n"
      ],
      "execution_count": 0,
      "outputs": []
    }
  ]
}